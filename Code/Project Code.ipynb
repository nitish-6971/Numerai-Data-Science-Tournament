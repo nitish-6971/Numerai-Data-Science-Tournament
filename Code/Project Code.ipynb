{
 "cells": [
  {
   "cell_type": "markdown",
   "metadata": {},
   "source": [
    "# ORIE 5256: Project\n",
    "## By: Henry Ogworonjo (hco23), Yiqun Wang (yw2296), Nitish Gade (ng375)"
   ]
  },
  {
   "cell_type": "markdown",
   "metadata": {},
   "source": [
    "---"
   ]
  },
  {
   "cell_type": "markdown",
   "metadata": {},
   "source": [
    "## Import the relevant datasets, and split into features and target."
   ]
  },
  {
   "cell_type": "code",
   "execution_count": 1,
   "metadata": {},
   "outputs": [],
   "source": [
    "import numpy as np\n",
    "import pandas as pd\n",
    "from sklearn.ensemble import RandomForestClassifier,AdaBoostClassifier\n",
    "from sklearn.metrics import roc_auc_score, roc_curve, auc, classification_report\n",
    "import xgboost as xgb\n",
    "import matplotlib.pyplot as plt\n",
    "from numba import jit\n",
    "from scipy.linalg import get_blas_funcs\n",
    "from joblib import Parallel, delayed\n",
    "from sklearn.decomposition import PCA\n",
    "from sklearn.model_selection import KFold\n",
    "from sklearn.model_selection import cross_val_score\n",
    "import pickle\n",
    "from tune_sklearn import TuneSearchCV\n",
    "from tune_sklearn import TuneGridSearchCV\n",
    "from xgboost.sklearn import XGBClassifier\n",
    "from sklearn.model_selection import RandomizedSearchCV\n",
    "from sklearn.model_selection import train_test_split"
   ]
  },
  {
   "cell_type": "code",
   "execution_count": 2,
   "metadata": {},
   "outputs": [],
   "source": [
    "df = pd.read_csv(\"numerai_training_data.csv\")\n",
    "# There's 310 features\n",
    "features = [c for c in df if c.startswith(\"feature\")]\n",
    "df[\"erano\"] = df.era.str.slice(3).astype(int)\n",
    "eras = df.erano\n",
    "target = \"target\"\n",
    "# The features are grouped together into 6 types\n",
    "feature_groups = {\n",
    "    g: [c for c in df if c.startswith(f\"feature_{g}\")]\n",
    "    for g in [\"intelligence\", \"wisdom\", \"charisma\", \"dexterity\", \"strength\", \"constitution\"]\n",
    "}"
   ]
  },
  {
   "cell_type": "code",
   "execution_count": 4,
   "metadata": {},
   "outputs": [],
   "source": [
    "X = df[features].copy()\n",
    "y = df[target].copy()"
   ]
  },
  {
   "cell_type": "code",
   "execution_count": 5,
   "metadata": {},
   "outputs": [
    {
     "data": {
      "text/plain": [
       "0         2\n",
       "1         1\n",
       "2         1\n",
       "3         1\n",
       "4         3\n",
       "         ..\n",
       "501803    2\n",
       "501804    3\n",
       "501805    1\n",
       "501806    2\n",
       "501807    2\n",
       "Name: target, Length: 501808, dtype: int32"
      ]
     },
     "execution_count": 5,
     "metadata": {},
     "output_type": "execute_result"
    }
   ],
   "source": [
    "y = y*4\n",
    "y = y.astype('int32')"
   ]
  },
  {
   "cell_type": "code",
   "execution_count": 6,
   "metadata": {},
   "outputs": [],
   "source": [
    "dftourn = pd.read_csv(\"numerai_tournament_data.csv\")"
   ]
  },
  {
   "cell_type": "code",
   "execution_count": 13,
   "metadata": {},
   "outputs": [],
   "source": [
    "validation_set = dftourn[dftourn['data_type'] == 'validation']\n",
    "V = validation_set.copy()\n",
    "V = V[features]"
   ]
  },
  {
   "cell_type": "code",
   "execution_count": 14,
   "metadata": {},
   "outputs": [
    {
     "data": {
      "text/plain": [
       "0          1\n",
       "1          2\n",
       "2          4\n",
       "3          2\n",
       "4          3\n",
       "          ..\n",
       "1545360    2\n",
       "1545361    1\n",
       "1545362    2\n",
       "1545363    4\n",
       "1545364    2\n",
       "Name: target, Length: 137779, dtype: int32"
      ]
     },
     "execution_count": 14,
     "metadata": {},
     "output_type": "execute_result"
    }
   ],
   "source": [
    "y_test = validation_set['target']\n",
    "y_test = y_test*4\n",
    "y_test = y_test.astype('int32')"
   ]
  },
  {
   "cell_type": "code",
   "execution_count": 24,
   "metadata": {},
   "outputs": [],
   "source": [
    "test_set = dftourn\n",
    "test_set = test_set.copy()\n",
    "T = test_set[features]"
   ]
  },
  {
   "cell_type": "markdown",
   "metadata": {},
   "source": [
    "---"
   ]
  },
  {
   "cell_type": "markdown",
   "metadata": {},
   "source": [
    "## Correlation Analysis and PCA"
   ]
  },
  {
   "cell_type": "code",
   "execution_count": 10,
   "metadata": {},
   "outputs": [
    {
     "data": {
      "text/html": [
       "<div>\n",
       "<style scoped>\n",
       "    .dataframe tbody tr th:only-of-type {\n",
       "        vertical-align: middle;\n",
       "    }\n",
       "\n",
       "    .dataframe tbody tr th {\n",
       "        vertical-align: top;\n",
       "    }\n",
       "\n",
       "    .dataframe thead th {\n",
       "        text-align: right;\n",
       "    }\n",
       "</style>\n",
       "<table border=\"1\" class=\"dataframe\">\n",
       "  <thead>\n",
       "    <tr style=\"text-align: right;\">\n",
       "      <th></th>\n",
       "      <th>feature_intelligence1</th>\n",
       "      <th>feature_intelligence2</th>\n",
       "      <th>feature_intelligence3</th>\n",
       "      <th>feature_intelligence4</th>\n",
       "      <th>feature_intelligence5</th>\n",
       "      <th>feature_intelligence6</th>\n",
       "      <th>feature_intelligence7</th>\n",
       "      <th>feature_intelligence8</th>\n",
       "      <th>feature_intelligence9</th>\n",
       "      <th>feature_intelligence10</th>\n",
       "      <th>...</th>\n",
       "      <th>feature_wisdom37</th>\n",
       "      <th>feature_wisdom38</th>\n",
       "      <th>feature_wisdom39</th>\n",
       "      <th>feature_wisdom40</th>\n",
       "      <th>feature_wisdom41</th>\n",
       "      <th>feature_wisdom42</th>\n",
       "      <th>feature_wisdom43</th>\n",
       "      <th>feature_wisdom44</th>\n",
       "      <th>feature_wisdom45</th>\n",
       "      <th>feature_wisdom46</th>\n",
       "    </tr>\n",
       "  </thead>\n",
       "  <tbody>\n",
       "    <tr>\n",
       "      <th>feature_intelligence1</th>\n",
       "      <td>1.000000</td>\n",
       "      <td>-0.014157</td>\n",
       "      <td>-0.024404</td>\n",
       "      <td>0.652596</td>\n",
       "      <td>0.069868</td>\n",
       "      <td>0.151265</td>\n",
       "      <td>0.188467</td>\n",
       "      <td>0.760617</td>\n",
       "      <td>-0.017661</td>\n",
       "      <td>-0.029344</td>\n",
       "      <td>...</td>\n",
       "      <td>-0.086291</td>\n",
       "      <td>-0.088465</td>\n",
       "      <td>-0.061247</td>\n",
       "      <td>-0.120785</td>\n",
       "      <td>-0.120960</td>\n",
       "      <td>0.021476</td>\n",
       "      <td>0.037546</td>\n",
       "      <td>-0.125501</td>\n",
       "      <td>-0.032981</td>\n",
       "      <td>-0.168257</td>\n",
       "    </tr>\n",
       "    <tr>\n",
       "      <th>feature_intelligence2</th>\n",
       "      <td>-0.014157</td>\n",
       "      <td>1.000000</td>\n",
       "      <td>0.905315</td>\n",
       "      <td>-0.028097</td>\n",
       "      <td>0.184372</td>\n",
       "      <td>-0.048150</td>\n",
       "      <td>-0.031199</td>\n",
       "      <td>-0.014185</td>\n",
       "      <td>0.483491</td>\n",
       "      <td>0.465704</td>\n",
       "      <td>...</td>\n",
       "      <td>-0.135790</td>\n",
       "      <td>-0.127448</td>\n",
       "      <td>-0.141152</td>\n",
       "      <td>0.049052</td>\n",
       "      <td>-0.009823</td>\n",
       "      <td>-0.156142</td>\n",
       "      <td>-0.222864</td>\n",
       "      <td>0.025692</td>\n",
       "      <td>-0.044577</td>\n",
       "      <td>-0.109628</td>\n",
       "    </tr>\n",
       "    <tr>\n",
       "      <th>feature_intelligence3</th>\n",
       "      <td>-0.024404</td>\n",
       "      <td>0.905315</td>\n",
       "      <td>1.000000</td>\n",
       "      <td>-0.041086</td>\n",
       "      <td>0.173870</td>\n",
       "      <td>-0.053716</td>\n",
       "      <td>-0.027043</td>\n",
       "      <td>-0.027653</td>\n",
       "      <td>0.467432</td>\n",
       "      <td>0.503837</td>\n",
       "      <td>...</td>\n",
       "      <td>-0.119191</td>\n",
       "      <td>-0.105961</td>\n",
       "      <td>-0.134758</td>\n",
       "      <td>0.055136</td>\n",
       "      <td>0.001594</td>\n",
       "      <td>-0.152337</td>\n",
       "      <td>-0.232693</td>\n",
       "      <td>0.029589</td>\n",
       "      <td>-0.034833</td>\n",
       "      <td>-0.107264</td>\n",
       "    </tr>\n",
       "    <tr>\n",
       "      <th>feature_intelligence4</th>\n",
       "      <td>0.652596</td>\n",
       "      <td>-0.028097</td>\n",
       "      <td>-0.041086</td>\n",
       "      <td>1.000000</td>\n",
       "      <td>0.054492</td>\n",
       "      <td>0.103287</td>\n",
       "      <td>0.110541</td>\n",
       "      <td>0.815162</td>\n",
       "      <td>-0.030180</td>\n",
       "      <td>-0.043915</td>\n",
       "      <td>...</td>\n",
       "      <td>-0.080466</td>\n",
       "      <td>-0.096097</td>\n",
       "      <td>-0.114118</td>\n",
       "      <td>-0.110214</td>\n",
       "      <td>-0.107755</td>\n",
       "      <td>-0.007601</td>\n",
       "      <td>-0.000272</td>\n",
       "      <td>-0.130211</td>\n",
       "      <td>-0.036535</td>\n",
       "      <td>-0.209641</td>\n",
       "    </tr>\n",
       "    <tr>\n",
       "      <th>feature_intelligence5</th>\n",
       "      <td>0.069868</td>\n",
       "      <td>0.184372</td>\n",
       "      <td>0.173870</td>\n",
       "      <td>0.054492</td>\n",
       "      <td>1.000000</td>\n",
       "      <td>0.145064</td>\n",
       "      <td>0.154358</td>\n",
       "      <td>0.067219</td>\n",
       "      <td>0.190649</td>\n",
       "      <td>0.188392</td>\n",
       "      <td>...</td>\n",
       "      <td>-0.110536</td>\n",
       "      <td>-0.101133</td>\n",
       "      <td>-0.104007</td>\n",
       "      <td>-0.016642</td>\n",
       "      <td>-0.046638</td>\n",
       "      <td>-0.100245</td>\n",
       "      <td>-0.071022</td>\n",
       "      <td>-0.027973</td>\n",
       "      <td>-0.050636</td>\n",
       "      <td>-0.079726</td>\n",
       "    </tr>\n",
       "    <tr>\n",
       "      <th>...</th>\n",
       "      <td>...</td>\n",
       "      <td>...</td>\n",
       "      <td>...</td>\n",
       "      <td>...</td>\n",
       "      <td>...</td>\n",
       "      <td>...</td>\n",
       "      <td>...</td>\n",
       "      <td>...</td>\n",
       "      <td>...</td>\n",
       "      <td>...</td>\n",
       "      <td>...</td>\n",
       "      <td>...</td>\n",
       "      <td>...</td>\n",
       "      <td>...</td>\n",
       "      <td>...</td>\n",
       "      <td>...</td>\n",
       "      <td>...</td>\n",
       "      <td>...</td>\n",
       "      <td>...</td>\n",
       "      <td>...</td>\n",
       "      <td>...</td>\n",
       "    </tr>\n",
       "    <tr>\n",
       "      <th>feature_wisdom42</th>\n",
       "      <td>0.021476</td>\n",
       "      <td>-0.156142</td>\n",
       "      <td>-0.152337</td>\n",
       "      <td>-0.007601</td>\n",
       "      <td>-0.100245</td>\n",
       "      <td>-0.043587</td>\n",
       "      <td>0.004963</td>\n",
       "      <td>-0.002595</td>\n",
       "      <td>-0.092348</td>\n",
       "      <td>-0.094492</td>\n",
       "      <td>...</td>\n",
       "      <td>0.708243</td>\n",
       "      <td>0.754589</td>\n",
       "      <td>0.841706</td>\n",
       "      <td>0.093309</td>\n",
       "      <td>0.171126</td>\n",
       "      <td>1.000000</td>\n",
       "      <td>0.311838</td>\n",
       "      <td>0.120180</td>\n",
       "      <td>0.263568</td>\n",
       "      <td>0.505521</td>\n",
       "    </tr>\n",
       "    <tr>\n",
       "      <th>feature_wisdom43</th>\n",
       "      <td>0.037546</td>\n",
       "      <td>-0.222864</td>\n",
       "      <td>-0.232693</td>\n",
       "      <td>-0.000272</td>\n",
       "      <td>-0.071022</td>\n",
       "      <td>-0.009765</td>\n",
       "      <td>0.030643</td>\n",
       "      <td>-0.004125</td>\n",
       "      <td>-0.276340</td>\n",
       "      <td>-0.288251</td>\n",
       "      <td>...</td>\n",
       "      <td>0.198455</td>\n",
       "      <td>0.196352</td>\n",
       "      <td>0.265656</td>\n",
       "      <td>-0.023005</td>\n",
       "      <td>0.081989</td>\n",
       "      <td>0.311838</td>\n",
       "      <td>1.000000</td>\n",
       "      <td>0.004611</td>\n",
       "      <td>0.002951</td>\n",
       "      <td>0.197166</td>\n",
       "    </tr>\n",
       "    <tr>\n",
       "      <th>feature_wisdom44</th>\n",
       "      <td>-0.125501</td>\n",
       "      <td>0.025692</td>\n",
       "      <td>0.029589</td>\n",
       "      <td>-0.130211</td>\n",
       "      <td>-0.027973</td>\n",
       "      <td>0.015334</td>\n",
       "      <td>0.010520</td>\n",
       "      <td>-0.139625</td>\n",
       "      <td>0.051455</td>\n",
       "      <td>0.032859</td>\n",
       "      <td>...</td>\n",
       "      <td>0.153831</td>\n",
       "      <td>0.161515</td>\n",
       "      <td>0.168145</td>\n",
       "      <td>0.905125</td>\n",
       "      <td>0.779072</td>\n",
       "      <td>0.120180</td>\n",
       "      <td>0.004611</td>\n",
       "      <td>1.000000</td>\n",
       "      <td>0.086558</td>\n",
       "      <td>0.172650</td>\n",
       "    </tr>\n",
       "    <tr>\n",
       "      <th>feature_wisdom45</th>\n",
       "      <td>-0.032981</td>\n",
       "      <td>-0.044577</td>\n",
       "      <td>-0.034833</td>\n",
       "      <td>-0.036535</td>\n",
       "      <td>-0.050636</td>\n",
       "      <td>-0.017144</td>\n",
       "      <td>-0.002331</td>\n",
       "      <td>-0.034896</td>\n",
       "      <td>0.080112</td>\n",
       "      <td>0.064880</td>\n",
       "      <td>...</td>\n",
       "      <td>0.303515</td>\n",
       "      <td>0.346918</td>\n",
       "      <td>0.299520</td>\n",
       "      <td>0.085849</td>\n",
       "      <td>0.100799</td>\n",
       "      <td>0.263568</td>\n",
       "      <td>0.002951</td>\n",
       "      <td>0.086558</td>\n",
       "      <td>1.000000</td>\n",
       "      <td>0.506321</td>\n",
       "    </tr>\n",
       "    <tr>\n",
       "      <th>feature_wisdom46</th>\n",
       "      <td>-0.168257</td>\n",
       "      <td>-0.109628</td>\n",
       "      <td>-0.107264</td>\n",
       "      <td>-0.209641</td>\n",
       "      <td>-0.079726</td>\n",
       "      <td>-0.069061</td>\n",
       "      <td>-0.028651</td>\n",
       "      <td>-0.227540</td>\n",
       "      <td>-0.000731</td>\n",
       "      <td>-0.024170</td>\n",
       "      <td>...</td>\n",
       "      <td>0.517159</td>\n",
       "      <td>0.568304</td>\n",
       "      <td>0.607140</td>\n",
       "      <td>0.159357</td>\n",
       "      <td>0.199589</td>\n",
       "      <td>0.505521</td>\n",
       "      <td>0.197166</td>\n",
       "      <td>0.172650</td>\n",
       "      <td>0.506321</td>\n",
       "      <td>1.000000</td>\n",
       "    </tr>\n",
       "  </tbody>\n",
       "</table>\n",
       "<p>310 rows × 310 columns</p>\n",
       "</div>"
      ],
      "text/plain": [
       "                       feature_intelligence1  feature_intelligence2  \\\n",
       "feature_intelligence1               1.000000              -0.014157   \n",
       "feature_intelligence2              -0.014157               1.000000   \n",
       "feature_intelligence3              -0.024404               0.905315   \n",
       "feature_intelligence4               0.652596              -0.028097   \n",
       "feature_intelligence5               0.069868               0.184372   \n",
       "...                                      ...                    ...   \n",
       "feature_wisdom42                    0.021476              -0.156142   \n",
       "feature_wisdom43                    0.037546              -0.222864   \n",
       "feature_wisdom44                   -0.125501               0.025692   \n",
       "feature_wisdom45                   -0.032981              -0.044577   \n",
       "feature_wisdom46                   -0.168257              -0.109628   \n",
       "\n",
       "                       feature_intelligence3  feature_intelligence4  \\\n",
       "feature_intelligence1              -0.024404               0.652596   \n",
       "feature_intelligence2               0.905315              -0.028097   \n",
       "feature_intelligence3               1.000000              -0.041086   \n",
       "feature_intelligence4              -0.041086               1.000000   \n",
       "feature_intelligence5               0.173870               0.054492   \n",
       "...                                      ...                    ...   \n",
       "feature_wisdom42                   -0.152337              -0.007601   \n",
       "feature_wisdom43                   -0.232693              -0.000272   \n",
       "feature_wisdom44                    0.029589              -0.130211   \n",
       "feature_wisdom45                   -0.034833              -0.036535   \n",
       "feature_wisdom46                   -0.107264              -0.209641   \n",
       "\n",
       "                       feature_intelligence5  feature_intelligence6  \\\n",
       "feature_intelligence1               0.069868               0.151265   \n",
       "feature_intelligence2               0.184372              -0.048150   \n",
       "feature_intelligence3               0.173870              -0.053716   \n",
       "feature_intelligence4               0.054492               0.103287   \n",
       "feature_intelligence5               1.000000               0.145064   \n",
       "...                                      ...                    ...   \n",
       "feature_wisdom42                   -0.100245              -0.043587   \n",
       "feature_wisdom43                   -0.071022              -0.009765   \n",
       "feature_wisdom44                   -0.027973               0.015334   \n",
       "feature_wisdom45                   -0.050636              -0.017144   \n",
       "feature_wisdom46                   -0.079726              -0.069061   \n",
       "\n",
       "                       feature_intelligence7  feature_intelligence8  \\\n",
       "feature_intelligence1               0.188467               0.760617   \n",
       "feature_intelligence2              -0.031199              -0.014185   \n",
       "feature_intelligence3              -0.027043              -0.027653   \n",
       "feature_intelligence4               0.110541               0.815162   \n",
       "feature_intelligence5               0.154358               0.067219   \n",
       "...                                      ...                    ...   \n",
       "feature_wisdom42                    0.004963              -0.002595   \n",
       "feature_wisdom43                    0.030643              -0.004125   \n",
       "feature_wisdom44                    0.010520              -0.139625   \n",
       "feature_wisdom45                   -0.002331              -0.034896   \n",
       "feature_wisdom46                   -0.028651              -0.227540   \n",
       "\n",
       "                       feature_intelligence9  feature_intelligence10  ...  \\\n",
       "feature_intelligence1              -0.017661               -0.029344  ...   \n",
       "feature_intelligence2               0.483491                0.465704  ...   \n",
       "feature_intelligence3               0.467432                0.503837  ...   \n",
       "feature_intelligence4              -0.030180               -0.043915  ...   \n",
       "feature_intelligence5               0.190649                0.188392  ...   \n",
       "...                                      ...                     ...  ...   \n",
       "feature_wisdom42                   -0.092348               -0.094492  ...   \n",
       "feature_wisdom43                   -0.276340               -0.288251  ...   \n",
       "feature_wisdom44                    0.051455                0.032859  ...   \n",
       "feature_wisdom45                    0.080112                0.064880  ...   \n",
       "feature_wisdom46                   -0.000731               -0.024170  ...   \n",
       "\n",
       "                       feature_wisdom37  feature_wisdom38  feature_wisdom39  \\\n",
       "feature_intelligence1         -0.086291         -0.088465         -0.061247   \n",
       "feature_intelligence2         -0.135790         -0.127448         -0.141152   \n",
       "feature_intelligence3         -0.119191         -0.105961         -0.134758   \n",
       "feature_intelligence4         -0.080466         -0.096097         -0.114118   \n",
       "feature_intelligence5         -0.110536         -0.101133         -0.104007   \n",
       "...                                 ...               ...               ...   \n",
       "feature_wisdom42               0.708243          0.754589          0.841706   \n",
       "feature_wisdom43               0.198455          0.196352          0.265656   \n",
       "feature_wisdom44               0.153831          0.161515          0.168145   \n",
       "feature_wisdom45               0.303515          0.346918          0.299520   \n",
       "feature_wisdom46               0.517159          0.568304          0.607140   \n",
       "\n",
       "                       feature_wisdom40  feature_wisdom41  feature_wisdom42  \\\n",
       "feature_intelligence1         -0.120785         -0.120960          0.021476   \n",
       "feature_intelligence2          0.049052         -0.009823         -0.156142   \n",
       "feature_intelligence3          0.055136          0.001594         -0.152337   \n",
       "feature_intelligence4         -0.110214         -0.107755         -0.007601   \n",
       "feature_intelligence5         -0.016642         -0.046638         -0.100245   \n",
       "...                                 ...               ...               ...   \n",
       "feature_wisdom42               0.093309          0.171126          1.000000   \n",
       "feature_wisdom43              -0.023005          0.081989          0.311838   \n",
       "feature_wisdom44               0.905125          0.779072          0.120180   \n",
       "feature_wisdom45               0.085849          0.100799          0.263568   \n",
       "feature_wisdom46               0.159357          0.199589          0.505521   \n",
       "\n",
       "                       feature_wisdom43  feature_wisdom44  feature_wisdom45  \\\n",
       "feature_intelligence1          0.037546         -0.125501         -0.032981   \n",
       "feature_intelligence2         -0.222864          0.025692         -0.044577   \n",
       "feature_intelligence3         -0.232693          0.029589         -0.034833   \n",
       "feature_intelligence4         -0.000272         -0.130211         -0.036535   \n",
       "feature_intelligence5         -0.071022         -0.027973         -0.050636   \n",
       "...                                 ...               ...               ...   \n",
       "feature_wisdom42               0.311838          0.120180          0.263568   \n",
       "feature_wisdom43               1.000000          0.004611          0.002951   \n",
       "feature_wisdom44               0.004611          1.000000          0.086558   \n",
       "feature_wisdom45               0.002951          0.086558          1.000000   \n",
       "feature_wisdom46               0.197166          0.172650          0.506321   \n",
       "\n",
       "                       feature_wisdom46  \n",
       "feature_intelligence1         -0.168257  \n",
       "feature_intelligence2         -0.109628  \n",
       "feature_intelligence3         -0.107264  \n",
       "feature_intelligence4         -0.209641  \n",
       "feature_intelligence5         -0.079726  \n",
       "...                                 ...  \n",
       "feature_wisdom42               0.505521  \n",
       "feature_wisdom43               0.197166  \n",
       "feature_wisdom44               0.172650  \n",
       "feature_wisdom45               0.506321  \n",
       "feature_wisdom46               1.000000  \n",
       "\n",
       "[310 rows x 310 columns]"
      ]
     },
     "execution_count": 10,
     "metadata": {},
     "output_type": "execute_result"
    }
   ],
   "source": [
    "Xcorr = X.corr()"
   ]
  },
  {
   "cell_type": "code",
   "execution_count": 11,
   "metadata": {},
   "outputs": [],
   "source": [
    "def drop_correlated(mainmatrix,correlationmatrix,correlationthreshold,validationmatrix):\n",
    "    correlated_features = set()\n",
    "    for i in range(len(correlationmatrix.columns)):\n",
    "        for j in range(i):\n",
    "            if abs(correlationmatrix.iloc[i, j]) > correlationthreshold:\n",
    "                colname = correlationmatrix.columns[i]\n",
    "                correlated_features.add(colname)\n",
    "    mainmatrix2 = mainmatrix.copy()\n",
    "    mainmatrix2.drop(labels=correlated_features, axis=1, inplace=True)\n",
    "    validationmatrix2 = validationmatrix.copy()\n",
    "    validationmatrix2.drop(labels=correlated_features, axis=1, inplace=True)\n",
    "    return mainmatrix2,validationmatrix2"
   ]
  },
  {
   "cell_type": "code",
   "execution_count": 12,
   "metadata": {},
   "outputs": [],
   "source": [
    "def do_PCA(matrix,explainedvariance,validationmatrix):\n",
    "    pca = PCA(n_components=matrix.shape[1])\n",
    "    pca.fit(matrix)\n",
    "    explainedvarianceratio = pca.explained_variance_ratio_\n",
    "    cumulativevariance = np.cumsum(explainedvarianceratio)\n",
    "    cutoff = np.searchsorted(cumulativevariance, explainedvariance, side='right')\n",
    "    principalComponents = pca.fit_transform(matrix)\n",
    "    principalComponents = principalComponents[:,:cutoff]\n",
    "    principalDf = pd.DataFrame(data = principalComponents)\n",
    "    X2_new = principalDf\n",
    "    newcolumns = []\n",
    "    for i in range(X2_new.shape[1]):\n",
    "        string = 'feature' + str(i+1)\n",
    "        newcolumns.append(string)\n",
    "    X2_new.columns = newcolumns\n",
    "    \n",
    "    pca2 = PCA(n_components=validationmatrix.shape[1])\n",
    "    pca2.fit(validationmatrix)\n",
    "    principalComponents2 = pca2.fit_transform(validationmatrix)\n",
    "    principalComponents2 = principalComponents2[:,:cutoff]\n",
    "    principalDf2 = pd.DataFrame(data = principalComponents2)\n",
    "    V2_new = principalDf2\n",
    "    newcolumns2 = []\n",
    "    for i in range(V2_new.shape[1]):\n",
    "        string = 'feature' + str(i+1)\n",
    "        newcolumns2.append(string)\n",
    "    V2_new.columns = newcolumns2\n",
    "    return X2_new,V2_new"
   ]
  },
  {
   "cell_type": "code",
   "execution_count": null,
   "metadata": {},
   "outputs": [],
   "source": [
    "X2,V2 = drop_correlated(X,Xcorr,0.85,V)\n",
    "X2_new,V2_new = do_PCA(X2,0.975,V2)"
   ]
  },
  {
   "cell_type": "markdown",
   "metadata": {},
   "source": [
    "---"
   ]
  },
  {
   "cell_type": "markdown",
   "metadata": {},
   "source": [
    "## Feature Selection using MDI"
   ]
  },
  {
   "cell_type": "code",
   "execution_count": 34,
   "metadata": {},
   "outputs": [],
   "source": [
    "def featImpMDI(fit,featNames):\n",
    "    # feat importance based on IS (in-sample) mean impurity reduction\n",
    "    df0 = {i:tree.feature_importances_ for i,tree in enumerate(fit.estimators_)}\n",
    "    df0 = pd.DataFrame.from_dict(df0,orient='index')\n",
    "    df0.columns = featNames\n",
    "    df0 = df0.replace(0,np.nan) # because max_features=1\n",
    "    imp = pd.concat({'mean':df0.mean(),'std':df0.std()*df0.shape[0]**-.5},axis=1)\n",
    "    imp /= imp['mean'].sum()\n",
    "    return imp"
   ]
  },
  {
   "cell_type": "code",
   "execution_count": 56,
   "metadata": {},
   "outputs": [],
   "source": [
    "def auxFeatImpSFI(featNames,clf,trnsX,y,cv):\n",
    "    imp = pd.DataFrame(columns=['mean','std'])\n",
    "    c = 0\n",
    "    for featName in featNames:\n",
    "        c += 1\n",
    "        print(c)\n",
    "        df0 = cross_val_score(clf, X = trnsX[[featName]], y = y, cv = cv, n_jobs = 4, verbose = 10)\n",
    "        imp.loc[featName,'mean'] = df0.mean()\n",
    "        imp.loc[featName,'std'] = df0.std()*df0.shape[0]**-.5\n",
    "    return imp"
   ]
  },
  {
   "cell_type": "code",
   "execution_count": 35,
   "metadata": {},
   "outputs": [],
   "source": [
    "def featImportance(X,y,clf,fit,method='SFI'):\n",
    "\n",
    "#     clf = RandomForestClassifier(n_estimators=n_estimators,criterion='entropy',min_weight_fraction_leaf = minWLeaf,\n",
    "#                                  max_features=int(1),class_weight='balanced',max_samples=max_samples,oob_score=True)\n",
    "    #oob = fit.oob_score_\n",
    "    if method == 'MDI':\n",
    "        imp = featImpMDI(fit,X.columns)\n",
    "    elif method == 'SFI':\n",
    "        kf = KFold(n_splits=3, shuffle=False)\n",
    "        imp = auxFeatImpSFI(X.columns,clf,X,y,kf)\n",
    "        #scores = cross_val_score(classifier, X, y, cv=kf)\n",
    "    return imp"
   ]
  },
  {
   "cell_type": "code",
   "execution_count": 59,
   "metadata": {},
   "outputs": [],
   "source": [
    "clf2 = RandomForestClassifier(max_features=int(1))\n",
    "fit = clf2.fit(X2,y)"
   ]
  },
  {
   "cell_type": "code",
   "execution_count": 60,
   "metadata": {},
   "outputs": [
    {
     "data": {
      "text/html": [
       "<div>\n",
       "<style scoped>\n",
       "    .dataframe tbody tr th:only-of-type {\n",
       "        vertical-align: middle;\n",
       "    }\n",
       "\n",
       "    .dataframe tbody tr th {\n",
       "        vertical-align: top;\n",
       "    }\n",
       "\n",
       "    .dataframe thead th {\n",
       "        text-align: right;\n",
       "    }\n",
       "</style>\n",
       "<table border=\"1\" class=\"dataframe\">\n",
       "  <thead>\n",
       "    <tr style=\"text-align: right;\">\n",
       "      <th></th>\n",
       "      <th>mean</th>\n",
       "      <th>std</th>\n",
       "    </tr>\n",
       "  </thead>\n",
       "  <tbody>\n",
       "    <tr>\n",
       "      <th>feature_intelligence1</th>\n",
       "      <td>0.009367</td>\n",
       "      <td>0.000175</td>\n",
       "    </tr>\n",
       "    <tr>\n",
       "      <th>feature_intelligence2</th>\n",
       "      <td>0.009569</td>\n",
       "      <td>0.000033</td>\n",
       "    </tr>\n",
       "    <tr>\n",
       "      <th>feature_intelligence4</th>\n",
       "      <td>0.010196</td>\n",
       "      <td>0.000109</td>\n",
       "    </tr>\n",
       "    <tr>\n",
       "      <th>feature_intelligence5</th>\n",
       "      <td>0.008898</td>\n",
       "      <td>0.000034</td>\n",
       "    </tr>\n",
       "    <tr>\n",
       "      <th>feature_intelligence6</th>\n",
       "      <td>0.008794</td>\n",
       "      <td>0.000037</td>\n",
       "    </tr>\n",
       "    <tr>\n",
       "      <th>...</th>\n",
       "      <td>...</td>\n",
       "      <td>...</td>\n",
       "    </tr>\n",
       "    <tr>\n",
       "      <th>feature_wisdom17</th>\n",
       "      <td>0.007801</td>\n",
       "      <td>0.000030</td>\n",
       "    </tr>\n",
       "    <tr>\n",
       "      <th>feature_wisdom18</th>\n",
       "      <td>0.007613</td>\n",
       "      <td>0.000026</td>\n",
       "    </tr>\n",
       "    <tr>\n",
       "      <th>feature_wisdom21</th>\n",
       "      <td>0.007765</td>\n",
       "      <td>0.000031</td>\n",
       "    </tr>\n",
       "    <tr>\n",
       "      <th>feature_wisdom23</th>\n",
       "      <td>0.007355</td>\n",
       "      <td>0.000035</td>\n",
       "    </tr>\n",
       "    <tr>\n",
       "      <th>feature_wisdom31</th>\n",
       "      <td>0.008081</td>\n",
       "      <td>0.000026</td>\n",
       "    </tr>\n",
       "  </tbody>\n",
       "</table>\n",
       "<p>125 rows × 2 columns</p>\n",
       "</div>"
      ],
      "text/plain": [
       "                           mean       std\n",
       "feature_intelligence1  0.009367  0.000175\n",
       "feature_intelligence2  0.009569  0.000033\n",
       "feature_intelligence4  0.010196  0.000109\n",
       "feature_intelligence5  0.008898  0.000034\n",
       "feature_intelligence6  0.008794  0.000037\n",
       "...                         ...       ...\n",
       "feature_wisdom17       0.007801  0.000030\n",
       "feature_wisdom18       0.007613  0.000026\n",
       "feature_wisdom21       0.007765  0.000031\n",
       "feature_wisdom23       0.007355  0.000035\n",
       "feature_wisdom31       0.008081  0.000026\n",
       "\n",
       "[125 rows x 2 columns]"
      ]
     },
     "execution_count": 60,
     "metadata": {},
     "output_type": "execute_result"
    }
   ],
   "source": [
    "mdi_imp = featImportance(X2,y,clf2,fit,method='MDI')"
   ]
  },
  {
   "cell_type": "code",
   "execution_count": 62,
   "metadata": {},
   "outputs": [],
   "source": [
    "#mdi_imp.to_excel('MDI Analysis - Main2.xlsx')"
   ]
  },
  {
   "cell_type": "markdown",
   "metadata": {},
   "source": [
    "---"
   ]
  },
  {
   "cell_type": "markdown",
   "metadata": {},
   "source": [
    "## Modeling using Random Forest, AdaBoost, XGBoost"
   ]
  },
  {
   "cell_type": "code",
   "execution_count": 20,
   "metadata": {},
   "outputs": [],
   "source": [
    "def do_ML(trainingdata,traininglabels,testingdata,testinglabels,method):\n",
    "    \"\"\"\n",
    "    Function that applies the Machine Learning method to the provided training and testing data and labels.\n",
    "    \n",
    "    Returns: ML model, out of sample AUC\n",
    "    \"\"\"\n",
    "    if (method == 'AdaBoost'):\n",
    "        clf=AdaBoostClassifier(n_estimators=100)\n",
    "        fit=clf.fit(trainingdata,traininglabels)\n",
    "        y_pred=clf.predict(testingdata)\n",
    "        y_predproba = clf.predict_proba(testingdata)\n",
    "        auc_score = roc_auc_score(testinglabels, y_predproba, multi_class='ovr')\n",
    "    elif (method == 'Random Forest'):\n",
    "        clf=RandomForestClassifier(n_estimators=100)\n",
    "        fit=clf.fit(trainingdata,traininglabels)\n",
    "        y_pred=clf.predict(testingdata)\n",
    "        y_predproba = clf.predict_proba(testingdata)\n",
    "        auc_score = roc_auc_score(testinglabels, y_predproba, multi_class='ovr')\n",
    "    elif (method == 'XGBoost'):\n",
    "        clf = XGBClassifier(n_estimators = 100, n_jobs=4)\n",
    "        fit = clf.fit(trainingdata,traininglabels)\n",
    "        preds = clf.predict(testingdata)\n",
    "        predproba = clf.predict_proba(testingdata)\n",
    "        auc_score = roc_auc_score(testinglabels, predproba, multi_class='ovr')\n",
    "    return clf,fit,auc_score"
   ]
  },
  {
   "cell_type": "code",
   "execution_count": 17,
   "metadata": {},
   "outputs": [],
   "source": [
    "#X2_new.to_csv(\"Features Matrix 2 - PCA.csv\")"
   ]
  },
  {
   "cell_type": "code",
   "execution_count": 18,
   "metadata": {},
   "outputs": [],
   "source": [
    "X_train, X_test, y_train, y__test = train_test_split(X2_new, y, test_size=0.3, random_state = 42)"
   ]
  },
  {
   "cell_type": "code",
   "execution_count": null,
   "metadata": {},
   "outputs": [],
   "source": [
    "clfrf,fitrf,auc_scorerf = do_ML(X_train,y_train,X_test,y__test,method='Random Forest')\n",
    "#print(auc_scorerf)\n",
    "clfada,fitada,auc_scoreada = do_ML(X_train,y_train,X_test,y__test,method='AdaBoost')\n",
    "#print(auc_scoreada)\n",
    "clf,fit,auc_score = do_ML(X_train,y_train,X_test,y__test,method='XGBoost')\n",
    "#print(auc_score)"
   ]
  },
  {
   "cell_type": "code",
   "execution_count": 149,
   "metadata": {},
   "outputs": [],
   "source": [
    "filename = 'XGBoost - Training Only.sav'\n",
    "pickle.dump(clf, open(filename, 'wb'))"
   ]
  },
  {
   "cell_type": "code",
   "execution_count": 35,
   "metadata": {},
   "outputs": [
    {
     "name": "stdout",
     "output_type": "stream",
     "text": [
      "0.5705710904323456\n"
     ]
    }
   ],
   "source": [
    "clfrf,fitrf,auc_scorerf = do_ML(X2_new,y,V2_new,y_test,method='Random Forest')\n",
    "#print(auc_scorerf)\n",
    "clfada,fitada,auc_scoreada = do_ML(X2_new,y,V2_new,y_test,method='AdaBoost')\n",
    "#print(auc_scoreada)\n",
    "clf,fit,auc_score = do_ML(X2_new,y,V2_new,y_test,method='XGBoost')\n",
    "#print(auc_score)"
   ]
  },
  {
   "cell_type": "code",
   "execution_count": 36,
   "metadata": {},
   "outputs": [],
   "source": [
    "filename = 'XGBoost - Training and Validation.sav'\n",
    "pickle.dump(clf, open(filename, 'wb'))"
   ]
  },
  {
   "cell_type": "markdown",
   "metadata": {},
   "source": [
    "---"
   ]
  },
  {
   "cell_type": "markdown",
   "metadata": {},
   "source": [
    "## Hyper-parameter tuning using randomized search"
   ]
  },
  {
   "cell_type": "code",
   "execution_count": null,
   "metadata": {
    "scrolled": true
   },
   "outputs": [],
   "source": [
    "param_grid = {\"n_estimators\" :[100, 150, 200, 300], \"learning_rate\": [0.005,0.05,0.1,0.5],  \"max_depth\":[3,5,10]}\n",
    "estimator = XGBClassifier(n_jobs = 4)\n",
    "#gs = TuneSearchCV(estimator,param_distributions=param_grid,n_trials=3,early_stopping=True,search_optimization=\"random\",max_iters=10)\n",
    "gs2 = RandomizedSearchCV(estimator, param_distributions=param_grid, n_jobs=4, scoring='roc_auc_ovr', cv=3, verbose=10, n_iter = 3)\n",
    "fit_gs = gs2.fit(X2_new,y)"
   ]
  },
  {
   "cell_type": "code",
   "execution_count": 25,
   "metadata": {},
   "outputs": [],
   "source": [
    "filename2 = 'Randomized Search Result 2.sav'\n",
    "pickle.dump(gs2, open(filename2, 'wb'))"
   ]
  },
  {
   "cell_type": "code",
   "execution_count": 31,
   "metadata": {},
   "outputs": [],
   "source": [
    "filename = 'Randomized Search Result.sav'\n",
    "pickle.dump(gs, open(filename, 'wb'))"
   ]
  },
  {
   "cell_type": "code",
   "execution_count": 33,
   "metadata": {},
   "outputs": [
    {
     "data": {
      "text/plain": [
       "({'mean_fit_time': array([ 6179.7008427 ,  8741.79812074, 16565.43113446]),\n",
       "  'std_fit_time': array([   9.52248098,  954.14269654, 2329.55769862]),\n",
       "  'mean_score_time': array([ 9.21154928, 13.11428102, 25.28526306]),\n",
       "  'std_score_time': array([1.55319174, 2.21975627, 8.18040702]),\n",
       "  'param_n_estimators': masked_array(data=[150, 150, 150],\n",
       "               mask=[False, False, False],\n",
       "         fill_value='?',\n",
       "              dtype=object),\n",
       "  'param_max_depth': masked_array(data=[3, 5, 10],\n",
       "               mask=[False, False, False],\n",
       "         fill_value='?',\n",
       "              dtype=object),\n",
       "  'param_learning_rate': masked_array(data=[0.005, 0.05, 0.1],\n",
       "               mask=[False, False, False],\n",
       "         fill_value='?',\n",
       "              dtype=object),\n",
       "  'params': [{'n_estimators': 150, 'max_depth': 3, 'learning_rate': 0.005},\n",
       "   {'n_estimators': 150, 'max_depth': 5, 'learning_rate': 0.05},\n",
       "   {'n_estimators': 150, 'max_depth': 10, 'learning_rate': 0.1}],\n",
       "  'split0_test_score': array([0.60774396, 0.63294923, 0.63074119]),\n",
       "  'split1_test_score': array([0.58401908, 0.61615766, 0.61380322]),\n",
       "  'split2_test_score': array([0.602837  , 0.63026284, 0.62528632]),\n",
       "  'mean_test_score': array([0.59820002, 0.62645658, 0.62327691]),\n",
       "  'std_test_score': array([0.01022558, 0.00736456, 0.00705937]),\n",
       "  'rank_test_score': array([3, 1, 2])},\n",
       " {'n_estimators': 150, 'max_depth': 5, 'learning_rate': 0.05},\n",
       " 0.6264565769432744)"
      ]
     },
     "execution_count": 33,
     "metadata": {},
     "output_type": "execute_result"
    }
   ],
   "source": [
    "gs.cv_results_, gs.best_params_, gs.best_score_"
   ]
  },
  {
   "cell_type": "code",
   "execution_count": 24,
   "metadata": {},
   "outputs": [
    {
     "data": {
      "text/plain": [
       "({'mean_fit_time': array([12511.35207001,  7011.36263124, 12279.69900393]),\n",
       "  'std_fit_time': array([  10.45473315, 1191.20844075, 1158.03233157]),\n",
       "  'mean_score_time': array([19.05373271, 10.33086809, 15.06518459]),\n",
       "  'std_score_time': array([0.45416106, 2.70567292, 4.60447042]),\n",
       "  'param_n_estimators': masked_array(data=[300, 200, 100],\n",
       "               mask=[False, False, False],\n",
       "         fill_value='?',\n",
       "              dtype=object),\n",
       "  'param_max_depth': masked_array(data=[3, 3, 10],\n",
       "               mask=[False, False, False],\n",
       "         fill_value='?',\n",
       "              dtype=object),\n",
       "  'param_learning_rate': masked_array(data=[0.1, 0.05, 0.1],\n",
       "               mask=[False, False, False],\n",
       "         fill_value='?',\n",
       "              dtype=object),\n",
       "  'params': [{'n_estimators': 300, 'max_depth': 3, 'learning_rate': 0.1},\n",
       "   {'n_estimators': 200, 'max_depth': 3, 'learning_rate': 0.05},\n",
       "   {'n_estimators': 100, 'max_depth': 10, 'learning_rate': 0.1}],\n",
       "  'split0_test_score': array([0.63702754, 0.63087783, 0.63081215]),\n",
       "  'split1_test_score': array([0.61950204, 0.61379439, 0.6144018 ]),\n",
       "  'split2_test_score': array([0.63401614, 0.62861756, 0.62626996]),\n",
       "  'mean_test_score': array([0.63018191, 0.62442992, 0.62382797]),\n",
       "  'std_test_score': array([0.00765122, 0.00757686, 0.00691845]),\n",
       "  'rank_test_score': array([1, 2, 3])},\n",
       " {'n_estimators': 300, 'max_depth': 3, 'learning_rate': 0.1},\n",
       " 0.630181907578262)"
      ]
     },
     "execution_count": 24,
     "metadata": {},
     "output_type": "execute_result"
    }
   ],
   "source": [
    "gs2.cv_results_, gs2.best_params_, gs2.best_score_"
   ]
  },
  {
   "cell_type": "code",
   "execution_count": 29,
   "metadata": {},
   "outputs": [],
   "source": [
    "gs1preds = gs.predict_proba(V2_new)\n",
    "gs2preds = gs2.predict_proba(V2_new)"
   ]
  },
  {
   "cell_type": "code",
   "execution_count": 30,
   "metadata": {},
   "outputs": [
    {
     "name": "stdout",
     "output_type": "stream",
     "text": [
      "0.5794995035407928\n",
      "0.575335700165294\n"
     ]
    }
   ],
   "source": [
    "auc_scoregs1 = roc_auc_score(y_test, gs1preds, multi_class='ovr')\n",
    "#print(auc_scoregs1)\n",
    "auc_scoregs2 = roc_auc_score(y_test, gs2preds, multi_class='ovr')\n",
    "#print(auc_scoregs2)"
   ]
  },
  {
   "cell_type": "markdown",
   "metadata": {},
   "source": [
    "---"
   ]
  },
  {
   "cell_type": "markdown",
   "metadata": {},
   "source": [
    "## Numerai Test Set Predictions"
   ]
  },
  {
   "cell_type": "code",
   "execution_count": 11,
   "metadata": {},
   "outputs": [],
   "source": [
    "def drop_correlated_w_Test(mainmatrix,correlationmatrix,correlationthreshold,testmatrix):\n",
    "    correlated_features = set()\n",
    "    for i in range(len(correlationmatrix.columns)):\n",
    "        for j in range(i):\n",
    "            if abs(correlationmatrix.iloc[i, j]) > correlationthreshold:\n",
    "                colname = correlationmatrix.columns[i]\n",
    "                correlated_features.add(colname)\n",
    "    mainmatrix2 = mainmatrix.copy()\n",
    "    mainmatrix2.drop(labels=correlated_features, axis=1, inplace=True)\n",
    "    testmatrix2 = testmatrix.copy()\n",
    "    testmatrix2.drop(labels=correlated_features, axis=1, inplace=True)\n",
    "    return mainmatrix2,testmatrix2"
   ]
  },
  {
   "cell_type": "code",
   "execution_count": 12,
   "metadata": {},
   "outputs": [],
   "source": [
    "def do_PCA_w_Test(matrix,explainedvariance,testmatrix):\n",
    "    pca = PCA(n_components=matrix.shape[1])\n",
    "    pca.fit(matrix)\n",
    "    explainedvarianceratio = pca.explained_variance_ratio_\n",
    "    cumulativevariance = np.cumsum(explainedvarianceratio)\n",
    "    cutoff = np.searchsorted(cumulativevariance, explainedvariance, side='right')\n",
    "    principalComponents = pca.fit_transform(matrix)\n",
    "    principalComponents = principalComponents[:,:cutoff]\n",
    "    principalDf = pd.DataFrame(data = principalComponents)\n",
    "    X2_new = principalDf\n",
    "    newcolumns = []\n",
    "    for i in range(X2_new.shape[1]):\n",
    "        string = 'feature' + str(i+1)\n",
    "        newcolumns.append(string)\n",
    "    X2_new.columns = newcolumns\n",
    "    \n",
    "    pca2 = PCA(n_components=testmatrix.shape[1])\n",
    "    pca2.fit(testmatrix)\n",
    "    principalComponents2 = pca2.fit_transform(testmatrix)\n",
    "    principalComponents2 = principalComponents2[:,:cutoff]\n",
    "    principalDf2 = pd.DataFrame(data = principalComponents2)\n",
    "    T2_new = principalDf2\n",
    "    newcolumns2 = []\n",
    "    for i in range(T2_new.shape[1]):\n",
    "        string = 'feature' + str(i+1)\n",
    "        newcolumns2.append(string)\n",
    "    T2_new.columns = newcolumns2\n",
    "    return X2_new,T2_new"
   ]
  },
  {
   "cell_type": "code",
   "execution_count": 26,
   "metadata": {},
   "outputs": [],
   "source": [
    "X2,T2 = drop_correlated_w_Test(X,Xcorr,0.85,T)\n",
    "X2_new,T2_new = do_PCA_w_Test(X2,0.975,T2)"
   ]
  },
  {
   "cell_type": "code",
   "execution_count": 14,
   "metadata": {
    "scrolled": true
   },
   "outputs": [
    {
     "name": "stderr",
     "output_type": "stream",
     "text": [
      "C:\\Users\\12027\\anaconda3\\lib\\site-packages\\sklearn\\base.py:329: UserWarning: Trying to unpickle estimator RandomizedSearchCV from version 0.22.1 when using version 0.23.2. This might lead to breaking code or invalid results. Use at your own risk.\n",
      "  warnings.warn(\n"
     ]
    }
   ],
   "source": [
    "gs = pickle.load(open('Randomized Search Result.sav', 'rb'))"
   ]
  },
  {
   "cell_type": "code",
   "execution_count": 27,
   "metadata": {},
   "outputs": [],
   "source": [
    "gs1preds_test = gs.predict_proba(T2_new)"
   ]
  },
  {
   "cell_type": "code",
   "execution_count": 29,
   "metadata": {},
   "outputs": [],
   "source": [
    "label_list = [0, 0.25, 0.50, 0.75, 1.0]"
   ]
  },
  {
   "cell_type": "code",
   "execution_count": null,
   "metadata": {},
   "outputs": [],
   "source": [
    "gs1pred_scaled = numpy.multiply(gs1preds_test, label_list)"
   ]
  },
  {
   "cell_type": "code",
   "execution_count": 30,
   "metadata": {},
   "outputs": [],
   "source": [
    "result = []\n",
    "for i in range(len(gs1preds_test)):\n",
    "    result.append(sum(np.multiply(gs1preds_test[i],label_list)))"
   ]
  },
  {
   "cell_type": "code",
   "execution_count": 32,
   "metadata": {},
   "outputs": [],
   "source": [
    "test_set = test_set.set_index(\"id\")"
   ]
  },
  {
   "cell_type": "code",
   "execution_count": 34,
   "metadata": {},
   "outputs": [],
   "source": [
    "df_test = pd.DataFrame(index = test_set.index)\n",
    "df_test['prediction'] = result"
   ]
  },
  {
   "cell_type": "code",
   "execution_count": 35,
   "metadata": {},
   "outputs": [],
   "source": [
    "df_test.to_csv('predictions.csv')"
   ]
  }
 ],
 "metadata": {
  "kernelspec": {
   "display_name": "Python 3",
   "language": "python",
   "name": "python3"
  },
  "language_info": {
   "codemirror_mode": {
    "name": "ipython",
    "version": 3
   },
   "file_extension": ".py",
   "mimetype": "text/x-python",
   "name": "python",
   "nbconvert_exporter": "python",
   "pygments_lexer": "ipython3",
   "version": "3.7.6"
  }
 },
 "nbformat": 4,
 "nbformat_minor": 4
}
